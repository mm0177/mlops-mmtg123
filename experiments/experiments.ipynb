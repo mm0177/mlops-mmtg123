{
 "cells": [
  {
   "cell_type": "code",
   "execution_count": 1,
   "metadata": {},
   "outputs": [
    {
     "ename": "ModuleNotFoundError",
     "evalue": "No module named 'mlops_package_mmtg'",
     "output_type": "error",
     "traceback": [
      "\u001b[1;31m---------------------------------------------------------------------------\u001b[0m",
      "\u001b[1;31mModuleNotFoundError\u001b[0m                       Traceback (most recent call last)",
      "Cell \u001b[1;32mIn[1], line 1\u001b[0m\n\u001b[1;32m----> 1\u001b[0m \u001b[38;5;28;01mimport\u001b[39;00m \u001b[38;5;21;01mmlops_package_mmtg\u001b[39;00m\n",
      "\u001b[1;31mModuleNotFoundError\u001b[0m: No module named 'mlops_package_mmtg'"
     ]
    }
   ],
   "source": [
    "import mlops_package_mmtg\n"
   ]
  },
  {
   "cell_type": "code",
   "execution_count": 2,
   "metadata": {},
   "outputs": [
    {
     "name": "stdout",
     "output_type": "stream",
     "text": [
      "Defaulting to user installation because normal site-packages is not writeable\n",
      "Requirement already satisfied: mlops_package_mmtg in c:\\users\\dell\\appdata\\roaming\\python\\python311\\site-packages (0.0.3)\n",
      "Requirement already satisfied: ensure==1.0.2 in c:\\users\\dell\\appdata\\roaming\\python\\python311\\site-packages (from mlops_package_mmtg) (1.0.2)\n",
      "Requirement already satisfied: py-youtube==1.1.7 in c:\\users\\dell\\appdata\\roaming\\python\\python311\\site-packages (from mlops_package_mmtg) (1.1.7)\n",
      "Requirement already satisfied: six>=1.11.0 in c:\\programdata\\anaconda3\\lib\\site-packages (from ensure==1.0.2->mlops_package_mmtg) (1.16.0)\n",
      "Note: you may need to restart the kernel to use updated packages.\n"
     ]
    },
    {
     "name": "stderr",
     "output_type": "stream",
     "text": [
      "DEPRECATION: Loading egg at c:\\programdata\\anaconda3\\lib\\site-packages\\vboxapi-1.0-py3.11.egg is deprecated. pip 24.3 will enforce this behaviour change. A possible replacement is to use pip for package installation.. Discussion can be found at https://github.com/pypa/pip/issues/12330\n",
      "\n",
      "[notice] A new release of pip is available: 23.3.2 -> 24.3.1\n",
      "[notice] To update, run: python.exe -m pip install --upgrade pip\n"
     ]
    }
   ],
   "source": [
    "%pip install mlops_package_mmtg"
   ]
  },
  {
   "cell_type": "code",
   "execution_count": 4,
   "metadata": {},
   "outputs": [],
   "source": [
    "import pymysql\n",
    "import pandas as pd\n",
    "import json\n",
    "from typing import Any, List, Optional\n",
    "from ensure import ensure_annotations\n",
    "\n",
    "\n",
    "class MySQLOperation:\n",
    "    def __init__(self, host: str, user: str, password: str, database: str):\n",
    "        self.host = host\n",
    "        self.user = user\n",
    "        self.password = password\n",
    "        self.database = database\n",
    "        self.connection = None\n",
    "\n",
    "    def create_connection(self):\n",
    "        \"\"\"\n",
    "        Establishes a connection to the MySQL database.\n",
    "        \"\"\"\n",
    "        if not self.connection:\n",
    "            self.connection = pymysql.connect(\n",
    "                host=self.host,\n",
    "                user=self.user,\n",
    "                password=self.password,\n",
    "                database=self.database\n",
    "            )\n",
    "        return self.connection\n",
    "\n",
    "    def execute_query(self, query: str, params: Optional[List[Any]] = None):\n",
    "        \"\"\"\n",
    "        Executes a given SQL query.\n",
    "        \"\"\"\n",
    "        connection = self.create_connection()\n",
    "        with connection.cursor() as cursor:\n",
    "            cursor.execute(query, params)\n",
    "            connection.commit()\n",
    "\n",
    "    def fetch_query(self, query: str, params: Optional[List[Any]] = None) -> List[tuple]:\n",
    "        \"\"\"\n",
    "        Executes a SELECT query and fetches results.\n",
    "        \"\"\"\n",
    "        connection = self.create_connection()\n",
    "        with connection.cursor() as cursor:\n",
    "            cursor.execute(query, params)\n",
    "            result = cursor.fetchall()\n",
    "        return result\n",
    "\n",
    "    def create_table(self, table_name: str, schema: str):\n",
    "        \"\"\"\n",
    "        Creates a table with the given name and schema.\n",
    "        Example schema: \"id INT AUTO_INCREMENT PRIMARY KEY, name VARCHAR(255), age INT\"\n",
    "        \"\"\"\n",
    "        query = f\"CREATE TABLE IF NOT EXISTS {table_name} ({schema})\"\n",
    "        self.execute_query(query)\n",
    "\n",
    "    def insert_record(self, table_name: str, record: dict):\n",
    "        \"\"\"\n",
    "        Inserts a single record into the specified table.\n",
    "        \"\"\"\n",
    "        columns = \", \".join(record.keys())\n",
    "        placeholders = \", \".join([\"%s\"] * len(record))\n",
    "        query = f\"INSERT INTO {table_name} ({columns}) VALUES ({placeholders})\"\n",
    "        self.execute_query(query, list(record.values()))\n",
    "\n",
    "    def bulk_insert(self, table_name: str, datafile: str):\n",
    "        \"\"\"\n",
    "        Performs a bulk insert from a CSV or Excel file.\n",
    "        \"\"\"\n",
    "        # Read the datafile into a DataFrame\n",
    "        if datafile.endswith('.csv'):\n",
    "            dataframe = pd.read_csv(datafile)\n",
    "        elif datafile.endswith('.xlsx'):\n",
    "            dataframe = pd.read_excel(datafile)\n",
    "        else:\n",
    "            raise ValueError(\"Unsupported file format. Use .csv or .xlsx\")\n",
    "\n",
    "        # Convert DataFrame to list of tuples\n",
    "        records = [tuple(x) for x in dataframe.to_records(index=False)]\n",
    "        columns = \", \".join(dataframe.columns)\n",
    "        placeholders = \", \".join([\"%s\"] * len(dataframe.columns))\n",
    "\n",
    "        # Perform bulk insert\n",
    "        query = f\"INSERT INTO {table_name} ({columns}) VALUES ({placeholders})\"\n",
    "        connection = self.create_connection()\n",
    "        with connection.cursor() as cursor:\n",
    "            cursor.executemany(query, records)\n",
    "            connection.commit()\n",
    "\n",
    "    def close_connection(self):\n",
    "        \"\"\"\n",
    "        Closes the database connection.\n",
    "        \"\"\"\n",
    "        if self.connection:\n",
    "            self.connection.close()\n",
    "            self.connection = None\n"
   ]
  },
  {
   "cell_type": "code",
   "execution_count": 3,
   "metadata": {},
   "outputs": [
    {
     "name": "stdout",
     "output_type": "stream",
     "text": [
      "Defaulting to user installation because normal site-packages is not writeableNote: you may need to restart the kernel to use updated packages.\n",
      "\n",
      "Collecting pymysql\n",
      "  Using cached PyMySQL-1.1.1-py3-none-any.whl.metadata (4.4 kB)\n",
      "Using cached PyMySQL-1.1.1-py3-none-any.whl (44 kB)\n",
      "Installing collected packages: pymysql\n",
      "Successfully installed pymysql-1.1.1\n"
     ]
    },
    {
     "name": "stderr",
     "output_type": "stream",
     "text": [
      "DEPRECATION: Loading egg at c:\\programdata\\anaconda3\\lib\\site-packages\\vboxapi-1.0-py3.11.egg is deprecated. pip 24.3 will enforce this behaviour change. A possible replacement is to use pip for package installation.. Discussion can be found at https://github.com/pypa/pip/issues/12330\n",
      "\n",
      "[notice] A new release of pip is available: 23.3.2 -> 24.3.1\n",
      "[notice] To update, run: python.exe -m pip install --upgrade pip\n"
     ]
    }
   ],
   "source": [
    "pip install pymysql"
   ]
  },
  {
   "cell_type": "code",
   "execution_count": 5,
   "metadata": {},
   "outputs": [],
   "source": [
    "db = MySQLOperation(\n",
    "    host=\"localhost\",\n",
    "    user=\"root\",\n",
    "    password=\"Mkarthik#1\",\n",
    "    database=\"speakerbooking\"\n",
    ")\n"
   ]
  },
  {
   "cell_type": "code",
   "execution_count": 8,
   "metadata": {},
   "outputs": [],
   "source": [
    "schema = \"id INT AUTO_INCREMENT PRIMARY KEY, name VARCHAR(255), age INT\"\n",
    "db.create_table(\"hello\", schema)\n"
   ]
  },
  {
   "cell_type": "code",
   "execution_count": 9,
   "metadata": {},
   "outputs": [],
   "source": [
    "record = {\"name\": \"John Doe\", \"age\": 30}\n",
    "db.insert_record(\"hello\", record)\n"
   ]
  },
  {
   "cell_type": "code",
   "execution_count": 12,
   "metadata": {},
   "outputs": [],
   "source": [
    "results = db.fetch_query(\"SELECT * FROM users\")\n",
    "for row in results:\n",
    "    print(row)\n",
    "    \n"
   ]
  },
  {
   "cell_type": "code",
   "execution_count": 11,
   "metadata": {},
   "outputs": [
    {
     "ename": "NameError",
     "evalue": "name 'row' is not defined",
     "output_type": "error",
     "traceback": [
      "\u001b[1;31m---------------------------------------------------------------------------\u001b[0m",
      "\u001b[1;31mNameError\u001b[0m                                 Traceback (most recent call last)",
      "Cell \u001b[1;32mIn[11], line 1\u001b[0m\n\u001b[1;32m----> 1\u001b[0m \u001b[38;5;28mprint\u001b[39m(\u001b[43mrow\u001b[49m)\n",
      "\u001b[1;31mNameError\u001b[0m: name 'row' is not defined"
     ]
    }
   ],
   "source": []
  },
  {
   "cell_type": "code",
   "execution_count": null,
   "metadata": {},
   "outputs": [],
   "source": []
  }
 ],
 "metadata": {
  "kernelspec": {
   "display_name": "base",
   "language": "python",
   "name": "python3"
  },
  "language_info": {
   "codemirror_mode": {
    "name": "ipython",
    "version": 3
   },
   "file_extension": ".py",
   "mimetype": "text/x-python",
   "name": "python",
   "nbconvert_exporter": "python",
   "pygments_lexer": "ipython3",
   "version": "3.11.4"
  }
 },
 "nbformat": 4,
 "nbformat_minor": 2
}
